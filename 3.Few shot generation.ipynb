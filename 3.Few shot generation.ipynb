{
 "cells": [
  {
   "cell_type": "code",
   "execution_count": 1,
   "id": "c8c290bb-ed6e-4f7e-868e-e7c6acbf7daa",
   "metadata": {},
   "outputs": [
    {
     "name": "stderr",
     "output_type": "stream",
     "text": [
      "Global seed set to 42\n"
     ]
    }
   ],
   "source": [
    "from utils.t5 import *\n",
    "import warnings\n",
    "import gc\n",
    "torch.cuda.empty_cache()\n",
    "pl.seed_everything(42)\n",
    "warnings.filterwarnings(\"ignore\")\n",
    "gc.collect()\n",
    "torch.cuda.empty_cache()"
   ]
  },
  {
   "cell_type": "code",
   "execution_count": 2,
   "id": "665d07ec-920b-46f0-891d-ff33f6a093d2",
   "metadata": {},
   "outputs": [],
   "source": [
    "input_model_name = \"d-t5-fine-tunned_large\"\n",
    "input_data_name = \"preprocessed.csv\"  \n",
    "\n",
    "input_model_dir = \"./Data/Model/\"\n",
    "input_data_dir = \"./Data/Preprocessed/\"\n",
    "output_dir = \"./Data/Generation/\"\n",
    "source_column = \"outline\"           \n",
    "generated_column = \"automatic_text\"       \n",
    "model_type = \"t5\"\n",
    "\n",
    "input_data_path = \"{}{}\".format(input_data_dir, input_data_name)\n",
    "new_data_path = \"{}generated_{}.pickle\".format(output_dir,input_model_name)\n",
    "input_model_path = \"{}{}\".format(input_model_dir,input_model_name)"
   ]
  },
  {
   "cell_type": "code",
   "execution_count": 3,
   "id": "4af7fbde-14a2-43cc-8922-07d599e7e08d",
   "metadata": {},
   "outputs": [],
   "source": [
    "data = pd.read_csv(input_data_path)"
   ]
  },
  {
   "cell_type": "code",
   "execution_count": 4,
   "id": "48bf5e93-71e0-478d-a1a6-0182bfb4fdac",
   "metadata": {},
   "outputs": [],
   "source": [
    "train, dev_test = train_test_split(data, test_size = 0.3, random_state = 42)\n",
    "dev, test = train_test_split(dev_test, test_size = 0.5, random_state = 42)"
   ]
  },
  {
   "cell_type": "code",
   "execution_count": 5,
   "id": "d5a315e5-e0d0-4140-a2cd-ecf5fd04d84d",
   "metadata": {},
   "outputs": [],
   "source": [
    "model = SimpleT5()"
   ]
  },
  {
   "cell_type": "code",
   "execution_count": 6,
   "id": "5e98f8b5-c649-49b6-b571-e73ec8bde23f",
   "metadata": {},
   "outputs": [
    {
     "data": {
      "text/plain": [
       "'./Data/Model/d-t5-fine-tunned_large'"
      ]
     },
     "execution_count": 6,
     "metadata": {},
     "output_type": "execute_result"
    }
   ],
   "source": [
    "input_model_path"
   ]
  },
  {
   "cell_type": "code",
   "execution_count": 7,
   "id": "7769490e-4bec-4f48-a1c3-c8bad71a547a",
   "metadata": {},
   "outputs": [],
   "source": [
    "model.load_model(model_type, input_model_path, use_gpu = True)"
   ]
  },
  {
   "cell_type": "code",
   "execution_count": 8,
   "id": "b0c80fef-9bc9-4747-8fa8-54085485f6e8",
   "metadata": {},
   "outputs": [
    {
     "name": "stdout",
     "output_type": "stream",
     "text": [
      "45\n"
     ]
    },
    {
     "data": {
      "application/vnd.jupyter.widget-view+json": {
       "model_id": "cfe430d5150344b9af10a272463602b1",
       "version_major": 2,
       "version_minor": 0
      },
      "text/plain": [
       "  0%|          | 0/3 [00:00<?, ?it/s]"
      ]
     },
     "metadata": {},
     "output_type": "display_data"
    }
   ],
   "source": [
    "input_data = test[source_column].to_list()\n",
    "print(len(input_data))\n",
    "automatic_lst = model.predict(input_data, batch_size = 15) # 30"
   ]
  },
  {
   "cell_type": "code",
   "execution_count": 9,
   "id": "2c7362ef-4cc7-4a96-9cbb-5823f4ed8b34",
   "metadata": {},
   "outputs": [
    {
     "data": {
      "text/plain": [
       "'./Data/Generation/generated_d-t5-fine-tunned_large.pickle'"
      ]
     },
     "execution_count": 9,
     "metadata": {},
     "output_type": "execute_result"
    }
   ],
   "source": [
    "new_data_path"
   ]
  },
  {
   "cell_type": "code",
   "execution_count": 10,
   "id": "d351448e-3504-42fb-9792-67dc97ce4eb8",
   "metadata": {},
   "outputs": [
    {
     "name": "stdout",
     "output_type": "stream",
     "text": [
      "45\n"
     ]
    }
   ],
   "source": [
    "test[generated_column] = automatic_lst\n",
    "print(len(test))\n",
    "test.to_pickle(new_data_path)"
   ]
  },
  {
   "cell_type": "code",
   "execution_count": null,
   "id": "d9dd2580-7741-4478-b9ac-7c43619d92a3",
   "metadata": {},
   "outputs": [],
   "source": []
  },
  {
   "cell_type": "code",
   "execution_count": null,
   "id": "712e82af-a083-44b6-be8a-0dc80c7ce3f2",
   "metadata": {},
   "outputs": [],
   "source": []
  },
  {
   "cell_type": "code",
   "execution_count": null,
   "id": "f7a43a10-8aa0-42e8-b87e-497d7023f8d6",
   "metadata": {},
   "outputs": [],
   "source": []
  },
  {
   "cell_type": "code",
   "execution_count": null,
   "id": "6cb6e325-407c-4bfa-b9ad-1f2c0ab0fe62",
   "metadata": {},
   "outputs": [],
   "source": []
  },
  {
   "cell_type": "code",
   "execution_count": null,
   "id": "a1237d37-facd-4144-b627-3ba7d02cfdc2",
   "metadata": {},
   "outputs": [],
   "source": []
  },
  {
   "cell_type": "markdown",
   "id": "96083a91-050d-4788-88f7-2271b9f53e0f",
   "metadata": {},
   "source": [
    "### GPU"
   ]
  },
  {
   "cell_type": "code",
   "execution_count": 19,
   "id": "26e3b377-719f-411a-8d79-d98c47c3a7ed",
   "metadata": {},
   "outputs": [
    {
     "name": "stdout",
     "output_type": "stream",
     "text": [
      "huggingface/tokenizers: The current process just got forked, after parallelism has already been used. Disabling parallelism to avoid deadlocks...\n",
      "To disable this warning, you can either:\n",
      "\t- Avoid using `tokenizers` before the fork if possible\n",
      "\t- Explicitly set the environment variable TOKENIZERS_PARALLELISM=(true | false)\n",
      "huggingface/tokenizers: The current process just got forked, after parallelism has already been used. Disabling parallelism to avoid deadlocks...\n",
      "To disable this warning, you can either:\n",
      "\t- Avoid using `tokenizers` before the fork if possible\n",
      "\t- Explicitly set the environment variable TOKENIZERS_PARALLELISM=(true | false)\n",
      "huggingface/tokenizers: The current process just got forked, after parallelism has already been used. Disabling parallelism to avoid deadlocks...\n",
      "To disable this warning, you can either:\n",
      "\t- Avoid using `tokenizers` before the fork if possible\n",
      "\t- Explicitly set the environment variable TOKENIZERS_PARALLELISM=(true | false)\n",
      "huggingface/tokenizers: The current process just got forked, after parallelism has already been used. Disabling parallelism to avoid deadlocks...\n",
      "To disable this warning, you can either:\n",
      "\t- Avoid using `tokenizers` before the fork if possible\n",
      "\t- Explicitly set the environment variable TOKENIZERS_PARALLELISM=(true | false)\n"
     ]
    },
    {
     "data": {
      "application/vnd.jupyter.widget-view+json": {
       "model_id": "5017d3bbd51d4a8daea9a4e25ee1378f",
       "version_major": 2,
       "version_minor": 0
      },
      "text/plain": [
       "  0%|          | 0/100 [00:00<?, ?it/s]"
      ]
     },
     "metadata": {},
     "output_type": "display_data"
    },
    {
     "name": "stderr",
     "output_type": "stream",
     "text": [
      "Token indices sequence length is longer than the specified maximum sequence length for this model (749 > 512). Running this sequence through the model will result in indexing errors\n",
      "Token indices sequence length is longer than the specified maximum sequence length for this model (1328 > 512). Running this sequence through the model will result in indexing errors\n",
      "Token indices sequence length is longer than the specified maximum sequence length for this model (728 > 512). Running this sequence through the model will result in indexing errors\n",
      "Token indices sequence length is longer than the specified maximum sequence length for this model (1284 > 512). Running this sequence through the model will result in indexing errors\n"
     ]
    },
    {
     "ename": "RuntimeError",
     "evalue": "Cannot re-initialize CUDA in forked subprocess. To use CUDA with multiprocessing, you must use the 'spawn' start method",
     "output_type": "error",
     "traceback": [
      "\u001b[0;31m---------------------------------------------------------------------------\u001b[0m",
      "\u001b[0;31mRemoteTraceback\u001b[0m                           Traceback (most recent call last)",
      "\u001b[0;31mRemoteTraceback\u001b[0m: \n\"\"\"\nTraceback (most recent call last):\n  File \"/storage/brno3-cerit/home/vajp02/.conda/envs/myenv/lib/python3.9/multiprocessing/pool.py\", line 125, in worker\n    result = (True, func(*args, **kwds))\n  File \"/storage/brno3-cerit/home/vajp02/.conda/envs/myenv/lib/python3.9/multiprocessing/pool.py\", line 48, in mapstar\n    return list(map(*args))\n  File \"/var/tmp/pbs.3314060.cerit-pbs.cerit-sc.cz/ipykernel_158715/991876933.py\", line 13, in m_predict\n    model.predict(n)\n  File \"/var/tmp/pbs.3314060.cerit-pbs.cerit-sc.cz/ipykernel_158715/85046522.py\", line 425, in predict\n    input_ids = input_ids.to(self.device)\n  File \"/storage/brno3-cerit/home/vajp02/.conda/envs/myenv/lib/python3.9/site-packages/torch/cuda/__init__.py\", line 204, in _lazy_init\n    raise RuntimeError(\nRuntimeError: Cannot re-initialize CUDA in forked subprocess. To use CUDA with multiprocessing, you must use the 'spawn' start method\n\"\"\"",
      "\nThe above exception was the direct cause of the following exception:\n",
      "\u001b[0;31mRuntimeError\u001b[0m                              Traceback (most recent call last)",
      "\u001b[0;32m/var/tmp/pbs.3314060.cerit-pbs.cerit-sc.cz/ipykernel_158715/991876933.py\u001b[0m in \u001b[0;36m<module>\u001b[0;34m\u001b[0m\n\u001b[1;32m     14\u001b[0m \u001b[0;34m\u001b[0m\u001b[0m\n\u001b[1;32m     15\u001b[0m \u001b[0mpool\u001b[0m  \u001b[0;34m=\u001b[0m \u001b[0mPool\u001b[0m\u001b[0;34m(\u001b[0m\u001b[0mcpus\u001b[0m\u001b[0;34m)\u001b[0m\u001b[0;34m\u001b[0m\u001b[0;34m\u001b[0m\u001b[0m\n\u001b[0;32m---> 16\u001b[0;31m \u001b[0mautomatic_lst\u001b[0m \u001b[0;34m=\u001b[0m \u001b[0mpool\u001b[0m\u001b[0;34m.\u001b[0m\u001b[0mmap\u001b[0m\u001b[0;34m(\u001b[0m\u001b[0mm_predict\u001b[0m\u001b[0;34m,\u001b[0m \u001b[0mtqdm\u001b[0m\u001b[0;34m(\u001b[0m\u001b[0mdata\u001b[0m\u001b[0;34m)\u001b[0m\u001b[0;34m)\u001b[0m\u001b[0;34m\u001b[0m\u001b[0;34m\u001b[0m\u001b[0m\n\u001b[0m",
      "\u001b[0;32m~/.conda/envs/myenv/lib/python3.9/multiprocessing/pool.py\u001b[0m in \u001b[0;36mmap\u001b[0;34m(self, func, iterable, chunksize)\u001b[0m\n\u001b[1;32m    362\u001b[0m         \u001b[0;32min\u001b[0m \u001b[0ma\u001b[0m \u001b[0mlist\u001b[0m \u001b[0mthat\u001b[0m \u001b[0;32mis\u001b[0m \u001b[0mreturned\u001b[0m\u001b[0;34m.\u001b[0m\u001b[0;34m\u001b[0m\u001b[0;34m\u001b[0m\u001b[0m\n\u001b[1;32m    363\u001b[0m         '''\n\u001b[0;32m--> 364\u001b[0;31m         \u001b[0;32mreturn\u001b[0m \u001b[0mself\u001b[0m\u001b[0;34m.\u001b[0m\u001b[0m_map_async\u001b[0m\u001b[0;34m(\u001b[0m\u001b[0mfunc\u001b[0m\u001b[0;34m,\u001b[0m \u001b[0miterable\u001b[0m\u001b[0;34m,\u001b[0m \u001b[0mmapstar\u001b[0m\u001b[0;34m,\u001b[0m \u001b[0mchunksize\u001b[0m\u001b[0;34m)\u001b[0m\u001b[0;34m.\u001b[0m\u001b[0mget\u001b[0m\u001b[0;34m(\u001b[0m\u001b[0;34m)\u001b[0m\u001b[0;34m\u001b[0m\u001b[0;34m\u001b[0m\u001b[0m\n\u001b[0m\u001b[1;32m    365\u001b[0m \u001b[0;34m\u001b[0m\u001b[0m\n\u001b[1;32m    366\u001b[0m     \u001b[0;32mdef\u001b[0m \u001b[0mstarmap\u001b[0m\u001b[0;34m(\u001b[0m\u001b[0mself\u001b[0m\u001b[0;34m,\u001b[0m \u001b[0mfunc\u001b[0m\u001b[0;34m,\u001b[0m \u001b[0miterable\u001b[0m\u001b[0;34m,\u001b[0m \u001b[0mchunksize\u001b[0m\u001b[0;34m=\u001b[0m\u001b[0;32mNone\u001b[0m\u001b[0;34m)\u001b[0m\u001b[0;34m:\u001b[0m\u001b[0;34m\u001b[0m\u001b[0;34m\u001b[0m\u001b[0m\n",
      "\u001b[0;32m~/.conda/envs/myenv/lib/python3.9/multiprocessing/pool.py\u001b[0m in \u001b[0;36mget\u001b[0;34m(self, timeout)\u001b[0m\n\u001b[1;32m    769\u001b[0m             \u001b[0;32mreturn\u001b[0m \u001b[0mself\u001b[0m\u001b[0;34m.\u001b[0m\u001b[0m_value\u001b[0m\u001b[0;34m\u001b[0m\u001b[0;34m\u001b[0m\u001b[0m\n\u001b[1;32m    770\u001b[0m         \u001b[0;32melse\u001b[0m\u001b[0;34m:\u001b[0m\u001b[0;34m\u001b[0m\u001b[0;34m\u001b[0m\u001b[0m\n\u001b[0;32m--> 771\u001b[0;31m             \u001b[0;32mraise\u001b[0m \u001b[0mself\u001b[0m\u001b[0;34m.\u001b[0m\u001b[0m_value\u001b[0m\u001b[0;34m\u001b[0m\u001b[0;34m\u001b[0m\u001b[0m\n\u001b[0m\u001b[1;32m    772\u001b[0m \u001b[0;34m\u001b[0m\u001b[0m\n\u001b[1;32m    773\u001b[0m     \u001b[0;32mdef\u001b[0m \u001b[0m_set\u001b[0m\u001b[0;34m(\u001b[0m\u001b[0mself\u001b[0m\u001b[0;34m,\u001b[0m \u001b[0mi\u001b[0m\u001b[0;34m,\u001b[0m \u001b[0mobj\u001b[0m\u001b[0;34m)\u001b[0m\u001b[0;34m:\u001b[0m\u001b[0;34m\u001b[0m\u001b[0;34m\u001b[0m\u001b[0m\n",
      "\u001b[0;31mRuntimeError\u001b[0m: Cannot re-initialize CUDA in forked subprocess. To use CUDA with multiprocessing, you must use the 'spawn' start method"
     ]
    }
   ],
   "source": [
    "from torch.multiprocessing import Pool, Process, set_start_method\n",
    "try:\n",
    "     set_start_method('spawn')\n",
    "except RuntimeError:\n",
    "    pass\n",
    "\n",
    "data = test[source_column].to_list()[0:100]\n",
    "\n",
    "cpus = 4 #multiprocessing.cpu_count()\n",
    "\n",
    "\n",
    "def m_predict(n):\n",
    "    model.predict(n)\n",
    "\n",
    "pool  = Pool(cpus)\n",
    "automatic_lst = pool.map(m_predict, tqdm(data))"
   ]
  },
  {
   "cell_type": "code",
   "execution_count": null,
   "id": "a5c7b49d-5f94-49ce-b100-f3e83d0fba03",
   "metadata": {},
   "outputs": [],
   "source": [
    "from torch.multiprocessing import set_start_method\n",
    "set_start_method('spawn')"
   ]
  },
  {
   "cell_type": "markdown",
   "id": "6c2d0d50-5cca-45e1-88e1-153c27667d78",
   "metadata": {},
   "source": [
    "### CPU"
   ]
  },
  {
   "cell_type": "code",
   "execution_count": null,
   "id": "386c59ed-3d1a-4127-8383-ced1fc41e121",
   "metadata": {},
   "outputs": [],
   "source": [
    "import multiprocessing\n",
    "\n",
    "cpus = multiprocessing.cpu_count()\n",
    "data = test[source_column].to_list()\n",
    "\n",
    "\n",
    "def m_predict(n):\n",
    "    model.predict(n)\n",
    "    print(\"done\")\n",
    "\n",
    "pool = multiprocessing.Pool(processes=cpus)  # \n",
    "pool.map(m_predict, tqdm(data)) #automatic_lst = "
   ]
  },
  {
   "cell_type": "code",
   "execution_count": null,
   "id": "8b4ef1b1-7146-47f7-8b33-b0e41fa5c509",
   "metadata": {},
   "outputs": [],
   "source": [
    "#data = test[source_column].to_list()\n",
    "#automatic_lst = [model.predict(i) for i in tqdm(data)]"
   ]
  },
  {
   "cell_type": "code",
   "execution_count": null,
   "id": "86444668-5fbd-4e0b-8b7e-22101599cc71",
   "metadata": {},
   "outputs": [],
   "source": [
    "#test = test[[\"statement\",\"label\",\"explanation_prep\",\"shortExplanation_prep\"]]\n",
    "test[generated_column] = automatic_lst\n",
    "test.to_pickle(new_data_path)"
   ]
  },
  {
   "cell_type": "code",
   "execution_count": null,
   "id": "b8a90154-0e75-40da-ab31-6ed9d10a4b58",
   "metadata": {},
   "outputs": [],
   "source": []
  },
  {
   "cell_type": "code",
   "execution_count": null,
   "id": "9b3abd9b-db43-40d4-b20d-b4b3a3fc12bc",
   "metadata": {},
   "outputs": [],
   "source": []
  },
  {
   "cell_type": "code",
   "execution_count": null,
   "id": "9988a422-a01d-4fd6-b83f-518476a3ef9e",
   "metadata": {},
   "outputs": [],
   "source": []
  },
  {
   "cell_type": "code",
   "execution_count": null,
   "id": "12e910f3-a3d2-4e91-9f45-d2c7c1ff6596",
   "metadata": {},
   "outputs": [],
   "source": []
  },
  {
   "cell_type": "code",
   "execution_count": null,
   "id": "4f771213-f96f-498c-8921-ba763795f326",
   "metadata": {},
   "outputs": [],
   "source": []
  }
 ],
 "metadata": {
  "kernelspec": {
   "display_name": "Python 3",
   "language": "python",
   "name": "python3"
  },
  "language_info": {
   "codemirror_mode": {
    "name": "ipython",
    "version": 3
   },
   "file_extension": ".py",
   "mimetype": "text/x-python",
   "name": "python",
   "nbconvert_exporter": "python",
   "pygments_lexer": "ipython3",
   "version": "3.9.7"
  }
 },
 "nbformat": 4,
 "nbformat_minor": 5
}
