{
 "cells": [
  {
   "cell_type": "code",
   "execution_count": 1,
   "id": "c8c290bb-ed6e-4f7e-868e-e7c6acbf7daa",
   "metadata": {},
   "outputs": [
    {
     "name": "stderr",
     "output_type": "stream",
     "text": [
      "Global seed set to 42\n"
     ]
    }
   ],
   "source": [
    "from app.utils.t5 import *\n",
    "import warnings\n",
    "import gc\n",
    "torch.cuda.empty_cache()\n",
    "pl.seed_everything(42)\n",
    "warnings.filterwarnings(\"ignore\")\n",
    "gc.collect()\n",
    "torch.cuda.empty_cache()"
   ]
  },
  {
   "cell_type": "code",
   "execution_count": 2,
   "id": "665d07ec-920b-46f0-891d-ff33f6a093d2",
   "metadata": {},
   "outputs": [],
   "source": [
    "input_model_name = \"d-t5-t5-base_grammar\"\n",
    "input_data_name = \"preprocessed.csv\"  \n",
    "\n",
    "input_model_dir = \"./Data/Model/\"\n",
    "input_data_dir = \"./Data/Preprocessed/\"\n",
    "output_dir = \"./Data/Generation/\"\n",
    "source_column = \"outline\"           \n",
    "generated_column = \"automatic_text\"       \n",
    "model_type = \"t5\"\n",
    "\n",
    "input_data_path = \"{}{}\".format(input_data_dir, input_data_name)\n",
    "new_data_path = \"{}generated_{}.csv\".format(output_dir,input_model_name)\n",
    "input_model_path = \"{}{}\".format(input_model_dir,input_model_name)"
   ]
  },
  {
   "cell_type": "code",
   "execution_count": 3,
   "id": "4af7fbde-14a2-43cc-8922-07d599e7e08d",
   "metadata": {},
   "outputs": [],
   "source": [
    "data = pd.read_csv(input_data_path)"
   ]
  },
  {
   "cell_type": "code",
   "execution_count": 4,
   "id": "f7684c04-b27b-4470-baaf-5cf2f05adecf",
   "metadata": {},
   "outputs": [],
   "source": [
    "test = data[data.type == \"test\"]"
   ]
  },
  {
   "cell_type": "code",
   "execution_count": 5,
   "id": "d5a315e5-e0d0-4140-a2cd-ecf5fd04d84d",
   "metadata": {},
   "outputs": [],
   "source": [
    "model = SimpleT5()"
   ]
  },
  {
   "cell_type": "code",
   "execution_count": 6,
   "id": "5e98f8b5-c649-49b6-b571-e73ec8bde23f",
   "metadata": {},
   "outputs": [
    {
     "data": {
      "text/plain": [
       "'./Data/Model/d-t5-t5-base_grammar'"
      ]
     },
     "execution_count": 6,
     "metadata": {},
     "output_type": "execute_result"
    }
   ],
   "source": [
    "input_model_path"
   ]
  },
  {
   "cell_type": "code",
   "execution_count": 53,
   "id": "7769490e-4bec-4f48-a1c3-c8bad71a547a",
   "metadata": {},
   "outputs": [],
   "source": [
    "model.load_model(model_type, input_model_path, use_gpu = False) # input_model_path"
   ]
  },
  {
   "cell_type": "code",
   "execution_count": 70,
   "id": "e71d189a-a798-410e-a606-8545e85a448a",
   "metadata": {},
   "outputs": [],
   "source": [
    "text = \"In this chapter? we first go explaining tf-idf then will get into neural nets and finally explain BERT.\"\n",
    "input_text = [\"grammar:\" + text + \" </s>\"] # "
   ]
  },
  {
   "cell_type": "code",
   "execution_count": 71,
   "id": "2faeca29-08fd-4710-9023-766d97b59c95",
   "metadata": {},
   "outputs": [
    {
     "data": {
      "application/vnd.jupyter.widget-view+json": {
       "model_id": "0ec8ee6b2ff948cd901d5b79571dca9d",
       "version_major": 2,
       "version_minor": 0
      },
      "text/plain": [
       "  0%|          | 0/1 [00:00<?, ?it/s]"
      ]
     },
     "metadata": {},
     "output_type": "display_data"
    },
    {
     "data": {
      "text/plain": [
       "'In this chapter we first go explaining tf-idf then will get into neural nets and finally explain BERT.'"
      ]
     },
     "execution_count": 71,
     "metadata": {},
     "output_type": "execute_result"
    }
   ],
   "source": [
    "model.predict(input_text, batch_size = 1)[0]"
   ]
  },
  {
   "cell_type": "code",
   "execution_count": null,
   "id": "6c6de746-11bd-42b3-a7a6-d9d50303e7f8",
   "metadata": {},
   "outputs": [],
   "source": []
  },
  {
   "cell_type": "code",
   "execution_count": null,
   "id": "0b4c6559-7582-47ac-acb1-f249edfd1915",
   "metadata": {},
   "outputs": [],
   "source": []
  },
  {
   "cell_type": "code",
   "execution_count": null,
   "id": "fe160cbc-0969-4881-918d-98db5d2fc69c",
   "metadata": {},
   "outputs": [],
   "source": []
  },
  {
   "cell_type": "code",
   "execution_count": 8,
   "id": "b0c80fef-9bc9-4747-8fa8-54085485f6e8",
   "metadata": {},
   "outputs": [
    {
     "name": "stdout",
     "output_type": "stream",
     "text": [
      "45\n"
     ]
    },
    {
     "data": {
      "application/vnd.jupyter.widget-view+json": {
       "model_id": "75f0c9f788434fb383de127b62c2ef25",
       "version_major": 2,
       "version_minor": 0
      },
      "text/plain": [
       "  0%|          | 0/3 [00:00<?, ?it/s]"
      ]
     },
     "metadata": {},
     "output_type": "display_data"
    }
   ],
   "source": [
    "input_data = (\"grammar: \" + test[source_column]).to_list()\n",
    "#input_data = test[source_column].to_list()\n",
    "print(len(input_data))\n",
    "automatic_lst = model.predict(input_data, batch_size = 15) # 30 15 4"
   ]
  },
  {
   "cell_type": "code",
   "execution_count": 9,
   "id": "2c7362ef-4cc7-4a96-9cbb-5823f4ed8b34",
   "metadata": {},
   "outputs": [
    {
     "data": {
      "text/plain": [
       "'./Data/Generation/generated_d-t5-t5-large_grammar.csv'"
      ]
     },
     "execution_count": 9,
     "metadata": {},
     "output_type": "execute_result"
    }
   ],
   "source": [
    "new_data_path"
   ]
  },
  {
   "cell_type": "code",
   "execution_count": 10,
   "id": "d351448e-3504-42fb-9792-67dc97ce4eb8",
   "metadata": {},
   "outputs": [
    {
     "name": "stdout",
     "output_type": "stream",
     "text": [
      "45\n"
     ]
    }
   ],
   "source": [
    "test[generated_column] = automatic_lst\n",
    "print(len(test))\n",
    "test.to_csv(new_data_path, index=False)"
   ]
  },
  {
   "cell_type": "code",
   "execution_count": null,
   "id": "d9dd2580-7741-4478-b9ac-7c43619d92a3",
   "metadata": {},
   "outputs": [],
   "source": []
  },
  {
   "cell_type": "code",
   "execution_count": null,
   "id": "712e82af-a083-44b6-be8a-0dc80c7ce3f2",
   "metadata": {},
   "outputs": [],
   "source": []
  },
  {
   "cell_type": "code",
   "execution_count": null,
   "id": "f7a43a10-8aa0-42e8-b87e-497d7023f8d6",
   "metadata": {},
   "outputs": [],
   "source": []
  },
  {
   "cell_type": "code",
   "execution_count": null,
   "id": "6cb6e325-407c-4bfa-b9ad-1f2c0ab0fe62",
   "metadata": {},
   "outputs": [],
   "source": []
  },
  {
   "cell_type": "code",
   "execution_count": null,
   "id": "a1237d37-facd-4144-b627-3ba7d02cfdc2",
   "metadata": {},
   "outputs": [],
   "source": []
  },
  {
   "cell_type": "code",
   "execution_count": null,
   "id": "b8a90154-0e75-40da-ab31-6ed9d10a4b58",
   "metadata": {},
   "outputs": [],
   "source": []
  },
  {
   "cell_type": "code",
   "execution_count": null,
   "id": "9b3abd9b-db43-40d4-b20d-b4b3a3fc12bc",
   "metadata": {},
   "outputs": [],
   "source": []
  },
  {
   "cell_type": "code",
   "execution_count": null,
   "id": "9988a422-a01d-4fd6-b83f-518476a3ef9e",
   "metadata": {},
   "outputs": [],
   "source": []
  },
  {
   "cell_type": "code",
   "execution_count": null,
   "id": "12e910f3-a3d2-4e91-9f45-d2c7c1ff6596",
   "metadata": {},
   "outputs": [],
   "source": []
  },
  {
   "cell_type": "code",
   "execution_count": null,
   "id": "4f771213-f96f-498c-8921-ba763795f326",
   "metadata": {},
   "outputs": [],
   "source": []
  }
 ],
 "metadata": {
  "kernelspec": {
   "display_name": "Python 3",
   "language": "python",
   "name": "python3"
  },
  "language_info": {
   "codemirror_mode": {
    "name": "ipython",
    "version": 3
   },
   "file_extension": ".py",
   "mimetype": "text/x-python",
   "name": "python",
   "nbconvert_exporter": "python",
   "pygments_lexer": "ipython3",
   "version": "3.9.7"
  }
 },
 "nbformat": 4,
 "nbformat_minor": 5
}
